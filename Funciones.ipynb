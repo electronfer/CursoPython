{
 "cells": [
  {
   "cell_type": "markdown",
   "metadata": {},
   "source": [
    "# <span style=\"color:#AA1111;\">Funciones en Python </span>\n",
    "### <span style=\"color:#118844;\">1. Primera función </span>\n",
    "Calcular el máximo entre dos números $a , b$<br>\n",
    "Si $a > b$, se imprime el valor de a, caso contrario se imprime el valor de b"
   ]
  },
  {
   "cell_type": "code",
   "execution_count": 1,
   "metadata": {},
   "outputs": [],
   "source": [
    "def imprimeMaximo():\n",
    "    a = 7\n",
    "    b = 8\n",
    "    \n",
    "    if a > b:\n",
    "        print(\"El número máximo entre {} y {} es {}\".format(a,b,a))\n",
    "    elif a == b:\n",
    "        print(\"No hay número máximo entre {} y {} ya que son iguales\".format(a,b,a))\n",
    "    else:\n",
    "        print(\"El número máximo entre {} y {} es {}\".format(a,b,b))"
   ]
  },
  {
   "cell_type": "code",
   "execution_count": 2,
   "metadata": {},
   "outputs": [
    {
     "name": "stdout",
     "output_type": "stream",
     "text": [
      "El número máximo entre 7 y 8 es 8\n"
     ]
    }
   ],
   "source": [
    "imprimeMaximo()"
   ]
  },
  {
   "cell_type": "markdown",
   "metadata": {},
   "source": [
    "### <span style=\"color:#118844;\">2. Parámetros en la función </span>"
   ]
  },
  {
   "cell_type": "code",
   "execution_count": 3,
   "metadata": {},
   "outputs": [],
   "source": [
    "def imprimeMaximo(a,b):\n",
    "    if a > b:\n",
    "        print(\"El número máximo entre {} y {} es a = {}\".format(a,b,a))\n",
    "    elif a == b:\n",
    "        print(\"No hay número máximo entre {} y {} ya que son iguales\".format(a,b,a))\n",
    "    else:\n",
    "        print(\"El número máximo entre {} y {} es b={}\".format(a,b,b))"
   ]
  },
  {
   "cell_type": "code",
   "execution_count": 4,
   "metadata": {},
   "outputs": [
    {
     "name": "stdout",
     "output_type": "stream",
     "text": [
      "El número máximo entre 11 y 10 es a = 11\n"
     ]
    }
   ],
   "source": [
    "imprimeMaximo(11,10)"
   ]
  },
  {
   "cell_type": "markdown",
   "metadata": {},
   "source": [
    "### <span style=\"color:#118844;\">3. Variables locales a la función </span>"
   ]
  },
  {
   "cell_type": "code",
   "execution_count": 5,
   "metadata": {},
   "outputs": [],
   "source": [
    "a = 50\n",
    "b = 70\n",
    "\n",
    "def imprimeMaximo():\n",
    "    a = 20\n",
    "    b = 90\n",
    "    print(\"*****************************************************\")\n",
    "    if a > b:\n",
    "        print(\"El número máximo entre {} y {} es {}\".format(a,b,a))\n",
    "    elif a == b:\n",
    "        print(\"No hay número máximo entre {} y {} ya que son iguales\".format(a,b,a))\n",
    "    else:\n",
    "        print(\"El número máximo entre {} y {} es {}\".format(a,b,b))\n",
    "    \n",
    "    print(\"El valor de a y b dentro de la función es {},{}\".format(a,b))\n",
    "    print(\"*****************************************************\")"
   ]
  },
  {
   "cell_type": "code",
   "execution_count": 6,
   "metadata": {},
   "outputs": [
    {
     "name": "stdout",
     "output_type": "stream",
     "text": [
      "El valor de a y b antes de llamar la función es 50,70\n",
      "*****************************************************\n",
      "El número máximo entre 20 y 90 es 90\n",
      "El valor de a y b dentro de la función es 20,90\n",
      "*****************************************************\n",
      "El valor de a y b después de llamar la función es 50,70\n"
     ]
    }
   ],
   "source": [
    "print(\"El valor de a y b antes de llamar la función es {},{}\".format(a,b))\n",
    "imprimeMaximo()\n",
    "print(\"El valor de a y b después de llamar la función es {},{}\".format(a,b))"
   ]
  },
  {
   "cell_type": "markdown",
   "metadata": {},
   "source": [
    "### <span style=\"color:#118844;\">4. Uso de variables globales dentro de una función </span>"
   ]
  },
  {
   "cell_type": "code",
   "execution_count": 7,
   "metadata": {},
   "outputs": [],
   "source": [
    "a = 50\n",
    "b = 70\n",
    "\n",
    "def imprimeMaximo():\n",
    "    \n",
    "    global a\n",
    "    global b\n",
    "    \n",
    "    a = 20\n",
    "    b = 90\n",
    "    \n",
    "    print(\"*****************************************************\")\n",
    "    if a > b:\n",
    "        print(\"El número máximo entre {} y {} es {}\".format(a,b,a))\n",
    "    elif a == b:\n",
    "        print(\"No hay número máximo entre {} y {} ya que son iguales\".format(a,b,a))\n",
    "    else:\n",
    "        print(\"El número máximo entre {} y {} es {}\".format(a,b,b))\n",
    "    \n",
    "    print(\"El valor de a y b dentro de la función es {},{}\".format(a,b))\n",
    "    print(\"*****************************************************\")"
   ]
  },
  {
   "cell_type": "code",
   "execution_count": 8,
   "metadata": {},
   "outputs": [
    {
     "name": "stdout",
     "output_type": "stream",
     "text": [
      "El valor de a y b antes de llamar la función es 50,70\n",
      "*****************************************************\n",
      "El número máximo entre 20 y 90 es 90\n",
      "El valor de a y b dentro de la función es 20,90\n",
      "*****************************************************\n",
      "El valor de a y b después de llamar la función es 20,90\n"
     ]
    }
   ],
   "source": [
    "print(\"El valor de a y b antes de llamar la función es {},{}\".format(a,b))\n",
    "imprimeMaximo()\n",
    "print(\"El valor de a y b después de llamar la función es {},{}\".format(a,b))"
   ]
  },
  {
   "cell_type": "markdown",
   "metadata": {},
   "source": [
    "### <span style=\"color:#118844;\">5. Uso de valores por defecto en una función </span>"
   ]
  },
  {
   "cell_type": "code",
   "execution_count": 9,
   "metadata": {},
   "outputs": [],
   "source": [
    "def imprimeMaximo(a=21, b=4):\n",
    "    \n",
    "    print(\"*****************************************************\")\n",
    "    if a > b:\n",
    "        print(\"El número máximo entre {} y {} es {}\".format(a,b,a))\n",
    "    elif a == b:\n",
    "        print(\"No hay número máximo entre {} y {} ya que son iguales\".format(a,b,a))\n",
    "    else:\n",
    "        print(\"El número máximo entre {} y {} es {}\".format(a,b,b))\n",
    "    \n",
    "    print(\"El valor de a y b dentro de la función es (a,b)=({},{})\".format(a,b))\n",
    "    print(\"*****************************************************\")"
   ]
  },
  {
   "cell_type": "code",
   "execution_count": 10,
   "metadata": {},
   "outputs": [
    {
     "name": "stdout",
     "output_type": "stream",
     "text": [
      "*****************************************************\n",
      "El número máximo entre 21 y 4 es 21\n",
      "El valor de a y b dentro de la función es (a,b)=(21,4)\n",
      "*****************************************************\n"
     ]
    }
   ],
   "source": [
    "imprimeMaximo()"
   ]
  },
  {
   "cell_type": "code",
   "execution_count": 11,
   "metadata": {},
   "outputs": [
    {
     "name": "stdout",
     "output_type": "stream",
     "text": [
      "*****************************************************\n",
      "El número máximo entre 5 y 4 es 5\n",
      "El valor de a y b dentro de la función es (a,b)=(5,4)\n",
      "*****************************************************\n"
     ]
    }
   ],
   "source": [
    "imprimeMaximo(5)"
   ]
  },
  {
   "cell_type": "code",
   "execution_count": 12,
   "metadata": {},
   "outputs": [
    {
     "name": "stdout",
     "output_type": "stream",
     "text": [
      "*****************************************************\n",
      "El número máximo entre 5 y 10 es 10\n",
      "El valor de a y b dentro de la función es (a,b)=(5,10)\n",
      "*****************************************************\n"
     ]
    }
   ],
   "source": [
    "imprimeMaximo(5,10)"
   ]
  },
  {
   "cell_type": "markdown",
   "metadata": {},
   "source": [
    "### <span style=\"color:#118844;\">6. Parámetros de longitud variable </span>"
   ]
  },
  {
   "cell_type": "code",
   "execution_count": 13,
   "metadata": {},
   "outputs": [],
   "source": [
    "def imprimeMaximo(a, *params):\n",
    "    \n",
    "    mayor = a\n",
    "    for item in params:\n",
    "        if item > mayor:\n",
    "            mayor = item\n",
    "        \n",
    "    print(\"El número mayor ingresado es {}\".format(mayor))"
   ]
  },
  {
   "cell_type": "code",
   "execution_count": 14,
   "metadata": {},
   "outputs": [
    {
     "name": "stdout",
     "output_type": "stream",
     "text": [
      "El número mayor ingresado es 77\n"
     ]
    }
   ],
   "source": [
    "imprimeMaximo(1, 2,8,2,4,1,77)"
   ]
  },
  {
   "cell_type": "code",
   "execution_count": 15,
   "metadata": {},
   "outputs": [
    {
     "name": "stdout",
     "output_type": "stream",
     "text": [
      "El número mayor ingresado es 21\n"
     ]
    }
   ],
   "source": [
    "imprimeMaximo(5, 1,11,2,21)"
   ]
  },
  {
   "cell_type": "markdown",
   "metadata": {},
   "source": [
    "### <span style=\"color:#118844;\">7. Retorno de parámetros desde la función</span>"
   ]
  },
  {
   "cell_type": "code",
   "execution_count": null,
   "metadata": {},
   "outputs": [],
   "source": [
    "def imprimeMaximo(a, *params):\n",
    "    \n",
    "    mayor = a\n",
    "    cont = 1\n",
    "    indice = 0\n",
    "    for item in params:\n",
    "        if item > mayor:\n",
    "            mayor = item\n",
    "            indice = cont\n",
    "        cont += 1\n",
    "        \n",
    "    return (mayor,indice)  "
   ]
  },
  {
   "cell_type": "code",
   "execution_count": null,
   "metadata": {},
   "outputs": [],
   "source": [
    "elemento, indice = imprimeMaximo(1, 2,8,211,4,1,55,15)\n",
    "\n",
    "print(\"El número mayor ingresado es \" + str(elemento) + \" que corresponde con el \" + str(indice+1) + \" número ingresado\")"
   ]
  },
  {
   "cell_type": "markdown",
   "metadata": {},
   "source": [
    "### <span style=\"color:#118844;\">8. Documentación de funciones </span>"
   ]
  },
  {
   "cell_type": "code",
   "execution_count": null,
   "metadata": {},
   "outputs": [],
   "source": [
    "def imprimeMaximo(a, b=4):\n",
    "    '''Imprime el máximo entre dos números.\n",
    "    \\rLos dos números deben ser enteros.\n",
    "\n",
    "    \\rEjemplo\n",
    "    imprimeMaximo(4,5)\n",
    "\n",
    "    \\rSalida\n",
    "    El número máximo entre 4 y 5 es 5\n",
    "    El valor de a y b dentro de la función es (a,b)=(4,5)\n",
    "    '''\n",
    "    \n",
    "    print(\"*****************************************************\")\n",
    "    if a > b:\n",
    "        print(\"El número máximo entre {} y {} es {}\".format(a,b,a))\n",
    "    elif a == b:\n",
    "        print(\"No hay número máximo entre {} y {} ya que son iguales\".format(a,b,a))\n",
    "    else:\n",
    "        print(\"El número máximo entre {} y {} es {}\".format(a,b,b))\n",
    "    \n",
    "    print(\"El valor de a y b dentro de la función es (a,b)=({},{})\".format(a,b))\n",
    "    print(\"*****************************************************\")"
   ]
  },
  {
   "cell_type": "code",
   "execution_count": null,
   "metadata": {},
   "outputs": [],
   "source": [
    "print(imprimeMaximo.__doc__)"
   ]
  }
 ],
 "metadata": {
  "kernelspec": {
   "display_name": "Python 3",
   "language": "python",
   "name": "python3"
  },
  "language_info": {
   "codemirror_mode": {
    "name": "ipython",
    "version": 3
   },
   "file_extension": ".py",
   "mimetype": "text/x-python",
   "name": "python",
   "nbconvert_exporter": "python",
   "pygments_lexer": "ipython3",
   "version": "3.8.5"
  }
 },
 "nbformat": 4,
 "nbformat_minor": 4
}
