{
 "cells": [
  {
   "cell_type": "markdown",
   "metadata": {},
   "source": [
    "# Tutorial Numpy"
   ]
  },
  {
   "cell_type": "markdown",
   "metadata": {},
   "source": [
    "Numpy es una librería computacional para Python que es optimizada para operaciones en arreglos.\n",
    "\n",
    "Para consultar la guía de referencia  completa de numpy, ver : https://numpy.org/"
   ]
  },
  {
   "cell_type": "code",
   "execution_count": 1,
   "metadata": {},
   "outputs": [],
   "source": [
    "import numpy as np # Importación de la librería a usar y su respectivo alias np para facilitar su manipulación"
   ]
  },
  {
   "cell_type": "markdown",
   "metadata": {},
   "source": [
    "# Creando Arreglos con Numpy"
   ]
  },
  {
   "cell_type": "markdown",
   "metadata": {},
   "source": [
    "Los arreglos se pueden construir de diferentes maneras. Por ejemplo, se puede tomar una lista y convertirla en un arreglo de numpy:"
   ]
  },
  {
   "cell_type": "code",
   "execution_count": 2,
   "metadata": {},
   "outputs": [
    {
     "name": "stdout",
     "output_type": "stream",
     "text": [
      "Arreglo myarray \n",
      "[120   2   3   4   5   7   8]\n",
      "El arreglo es de tipo: int32\n",
      "\n",
      "Arreglo creado por lista\n",
      "[1. 2. 3. 4.]\n",
      "El arreglo es de tipo: float64\n"
     ]
    }
   ],
   "source": [
    "myarray = np.array( [120, 2, 3, 4, 5, 7, 8] )\n",
    "\n",
    "mylist = [1., 2., 3., 4.]\n",
    "mynparray = np.array(mylist)\n",
    "\n",
    "print(\"Arreglo myarray \")\n",
    "print(myarray)\n",
    "print(\"El arreglo es de tipo: \", end='')\n",
    "print( myarray.dtype)\n",
    "\n",
    "print(\"\\nArreglo creado por lista\")\n",
    "print(mynparray)\n",
    "print(\"El arreglo es de tipo: \", end='')\n",
    "print( mynparray.dtype)"
   ]
  },
  {
   "cell_type": "markdown",
   "metadata": {},
   "source": [
    "Se puede inicializar un arreglo con todos los elementos en 1 o 0 con las funciones <b>*ones()*</b> y <b>*zeros()*</b>. Por ejemplo:<br>  \n",
    "Arreglo unidimensional o vector con 1 fila y 4 columnas de <b>1</b>: \n",
    "$\\left( \\begin{array}{cccc}\n",
    "1 & 1 & 1 & 1 \\\\\n",
    "\\end{array} \\right)$"
   ]
  },
  {
   "cell_type": "code",
   "execution_count": 3,
   "metadata": {},
   "outputs": [
    {
     "name": "stdout",
     "output_type": "stream",
     "text": [
      "[1. 1. 1. 1.]\n"
     ]
    }
   ],
   "source": [
    "one_vector = np.ones(4)\n",
    "print(one_vector)"
   ]
  },
  {
   "cell_type": "markdown",
   "metadata": {},
   "source": [
    "Un arreglo bidimensional con 2 filas y 4 columnas de <b>1</b>:\n",
    "$\\left( \\begin{array}{cccc}\n",
    "1 & 1 & 1 & 1 \\\\\n",
    "1 & 1 & 1 & 1\\\\\n",
    "\\end{array} \\right)$"
   ]
  },
  {
   "cell_type": "code",
   "execution_count": 4,
   "metadata": {},
   "outputs": [
    {
     "name": "stdout",
     "output_type": "stream",
     "text": [
      "[[1. 1. 1. 1.]\n",
      " [1. 1. 1. 1.]]\n"
     ]
    }
   ],
   "source": [
    "one2Darray = np.ones( (2, 4) )\n",
    "print(one2Darray)"
   ]
  },
  {
   "cell_type": "markdown",
   "metadata": {},
   "source": [
    "Arreglo unidimensional o vector con 1 fila y 4 columnas de <b>0</b>: \n",
    "$\\left( \\begin{array}{ccc}\n",
    "0 & 0 & 0 & 0 \\\\\n",
    "\\end{array} \\right)$"
   ]
  },
  {
   "cell_type": "code",
   "execution_count": 5,
   "metadata": {},
   "outputs": [
    {
     "name": "stdout",
     "output_type": "stream",
     "text": [
      "[0. 0. 0. 0.]\n"
     ]
    }
   ],
   "source": [
    "zero_vector = np.zeros(4)\n",
    "print(zero_vector)"
   ]
  },
  {
   "cell_type": "markdown",
   "metadata": {},
   "source": [
    "También se puede inicializar un arreglo vacío el cual será llenado con valores. Esta es la forma más rápida de inicializar arreglos en numpy con un tamaño fijo, sin embargo el programador se debe asegurar que se sustituyan todos los valores"
   ]
  },
  {
   "cell_type": "code",
   "execution_count": 6,
   "metadata": {},
   "outputs": [
    {
     "name": "stdout",
     "output_type": "stream",
     "text": [
      "[7.56602523e-307 8.01089062e-307 2.11392033e-307 1.60216183e-306\n",
      " 7.56602523e-307]\n"
     ]
    }
   ],
   "source": [
    "empty_vector = np.empty(5)\n",
    "print(empty_vector)"
   ]
  },
  {
   "cell_type": "markdown",
   "metadata": {},
   "source": [
    "# Accediendo a los elementos de un arreglo"
   ]
  },
  {
   "cell_type": "markdown",
   "metadata": {},
   "source": [
    "Para vectores se puede acceder al indice refiriendose a este con corchetes.<br>\n",
    "* <b>Nota: Los indices en python inician en _0_</b>"
   ]
  },
  {
   "cell_type": "code",
   "execution_count": 7,
   "metadata": {},
   "outputs": [
    {
     "data": {
      "text/plain": [
       "array([1., 2., 3., 4.])"
      ]
     },
     "execution_count": 7,
     "metadata": {},
     "output_type": "execute_result"
    }
   ],
   "source": [
    "mynparray"
   ]
  },
  {
   "cell_type": "code",
   "execution_count": 8,
   "metadata": {},
   "outputs": [
    {
     "data": {
      "text/plain": [
       "3.0"
      ]
     },
     "execution_count": 8,
     "metadata": {},
     "output_type": "execute_result"
    }
   ],
   "source": [
    "mynparray[2]"
   ]
  },
  {
   "cell_type": "markdown",
   "metadata": {},
   "source": [
    "Arreglos bidimensionales o matrices se pueden acceder de manera similar pero refiriendose al índice de la fila y de la columna separados por coma (,):  \n",
    "* Primero declaramos la matriz con la variable $\\text{my_matrix}$\n",
    "* Luego imprimimos la matriz\n",
    "* Por último, accedemos a los elementos de la fila 1 y columna 2 usando los índices $[0,1]$, lo que nos retorna el valor $2$.  \n",
    "A continuación se presenta la matriz analizada.  \n",
    "$\\text{my_matrix = }\\begin{pmatrix}\n",
    "  1 & 2 & 3\\\\ \n",
    "  4 & 5 & 6\n",
    "\\end{pmatrix}$"
   ]
  },
  {
   "cell_type": "code",
   "execution_count": 9,
   "metadata": {},
   "outputs": [
    {
     "name": "stdout",
     "output_type": "stream",
     "text": [
      "[[1 2 3]\n",
      " [4 5 6]]\n"
     ]
    }
   ],
   "source": [
    "my_matrix = np.array( [ [1, 2, 3] , [4, 5, 6] ] )\n",
    "print(my_matrix)"
   ]
  },
  {
   "cell_type": "code",
   "execution_count": 10,
   "metadata": {},
   "outputs": [
    {
     "name": "stdout",
     "output_type": "stream",
     "text": [
      "4\n"
     ]
    }
   ],
   "source": [
    "fila = 2\n",
    "columna = 1\n",
    "print(my_matrix[ fila - 1 , columna - 1 ])"
   ]
  },
  {
   "cell_type": "markdown",
   "metadata": {},
   "source": [
    "Para acceder a porciones de la matriz podemos usar los dos puntos <b>(:)</b>. Por ejemplo, si queremos acceder los elementos de la columna 2 en todas sus filas podemos escribir:"
   ]
  },
  {
   "cell_type": "code",
   "execution_count": 11,
   "metadata": {},
   "outputs": [
    {
     "name": "stdout",
     "output_type": "stream",
     "text": [
      "[2 5]\n"
     ]
    }
   ],
   "source": [
    "columna = 2\n",
    "print(my_matrix[ : , columna - 1 ])"
   ]
  },
  {
   "cell_type": "markdown",
   "metadata": {},
   "source": [
    "Para acceder a todos los elementos de la fila 1 podemos escribir:"
   ]
  },
  {
   "cell_type": "code",
   "execution_count": 12,
   "metadata": {},
   "outputs": [
    {
     "name": "stdout",
     "output_type": "stream",
     "text": [
      "[1 2 3]\n"
     ]
    }
   ],
   "source": [
    "fila = 1\n",
    "print(my_matrix[ fila - 1 , : ])"
   ]
  },
  {
   "cell_type": "markdown",
   "metadata": {},
   "source": [
    "También se puede pasar una lista a los índices"
   ]
  },
  {
   "cell_type": "code",
   "execution_count": 13,
   "metadata": {},
   "outputs": [
    {
     "name": "stdout",
     "output_type": "stream",
     "text": [
      "[0.16899734 0.25629426 0.07240197 0.98329082 0.8255134  0.89800991\n",
      " 0.45801739 0.49598403 0.0104918  0.66900093]\n"
     ]
    }
   ],
   "source": [
    "# Creamos un vector de números aleatorios de la siguiente manera\n",
    "fib_indices = np.array([1, 1, 2, 9])\n",
    "\n",
    "random_vector = np.random.random(10)\n",
    "print(random_vector)"
   ]
  },
  {
   "cell_type": "code",
   "execution_count": 14,
   "metadata": {},
   "outputs": [
    {
     "name": "stdout",
     "output_type": "stream",
     "text": [
      "[0.25629426 0.25629426 0.07240197 0.66900093]\n"
     ]
    }
   ],
   "source": [
    "print(random_vector[fib_indices])"
   ]
  },
  {
   "cell_type": "markdown",
   "metadata": {},
   "source": [
    "También se pueden usar los valores booleanos $True$ o $False$ para seleccionar elementos"
   ]
  },
  {
   "cell_type": "code",
   "execution_count": 15,
   "metadata": {},
   "outputs": [
    {
     "name": "stdout",
     "output_type": "stream",
     "text": [
      "[1 3 5 7]\n"
     ]
    }
   ],
   "source": [
    "my_vector = np.array([1, 2, 3, 4, 5, 6, 7, 8])\n",
    "\n",
    "select_index = np.array([True, False, True, False, True, False, True, False])\n",
    "\n",
    "print(my_vector[select_index])"
   ]
  },
  {
   "cell_type": "markdown",
   "metadata": {},
   "source": [
    "* Para arreglos 2D se pueden seleccionar las columnas y filas específicas.  \n",
    "* Pasando <b>(:)</b> selecciona todas las filas y todas las columnas.  \n",
    "A continuación se presenta la matriz analizada.  \n",
    "$\\text{my_matrix = }\\begin{pmatrix}\n",
    "  1 & 2 & 3\\\\ \n",
    "  4 & 5 & 6\n",
    "\\end{pmatrix}$"
   ]
  },
  {
   "cell_type": "code",
   "execution_count": 16,
   "metadata": {},
   "outputs": [
    {
     "data": {
      "text/plain": [
       "array([[1, 2, 3],\n",
       "       [4, 5, 6]])"
      ]
     },
     "execution_count": 16,
     "metadata": {},
     "output_type": "execute_result"
    }
   ],
   "source": [
    "my_matrix"
   ]
  },
  {
   "cell_type": "code",
   "execution_count": 17,
   "metadata": {},
   "outputs": [],
   "source": [
    "select_cols = np.array([True, False, True]) # columna 1 y 3\n",
    "select_rows = np.array([False, True]) # Fila 2"
   ]
  },
  {
   "cell_type": "code",
   "execution_count": 18,
   "metadata": {},
   "outputs": [
    {
     "name": "stdout",
     "output_type": "stream",
     "text": [
      "[[4 5 6]]\n"
     ]
    }
   ],
   "source": [
    "print( my_matrix[ select_rows , : ] ) # Se selecciona toda la fila inferior"
   ]
  },
  {
   "cell_type": "code",
   "execution_count": 19,
   "metadata": {},
   "outputs": [
    {
     "name": "stdout",
     "output_type": "stream",
     "text": [
      "[[1 3]\n",
      " [4 6]]\n"
     ]
    }
   ],
   "source": [
    "print( my_matrix[ : , select_cols ] ) # Se imprimen todas las filas y solo las columnas 1 y 3"
   ]
  },
  {
   "cell_type": "markdown",
   "metadata": {},
   "source": [
    "# Operaciones en arreglos"
   ]
  },
  {
   "cell_type": "markdown",
   "metadata": {},
   "source": [
    "Se pueden usar las operaciones $ *, **, \\, + \\text{ y } -$ sobre arreglos de numpy, y estos operan <b>elemento a elemento</b>:\n",
    "* Sea $ A = \\begin{pmatrix}\n",
    "    1.0\\\\\n",
    "    2.0\\\\\n",
    "    3.0\\\\\n",
    "    4.0\n",
    "\\end{pmatrix}$ y $ B = \\begin{pmatrix}\n",
    "    1.0\\\\\n",
    "    -1.0\\\\\n",
    "    1.0\\\\\n",
    "    -1.0\n",
    "\\end{pmatrix}$"
   ]
  },
  {
   "cell_type": "markdown",
   "metadata": {},
   "source": [
    "### Multiplicación elemento a elemento\n",
    "$A*B = \\begin{pmatrix}\n",
    "    1.0\\\\\n",
    "    2.0\\\\\n",
    "    3.0\\\\\n",
    "    4.0\n",
    "\\end{pmatrix} * \\begin{pmatrix}\n",
    "    1.0\\\\\n",
    "    -1.0\\\\\n",
    "    1.0\\\\\n",
    "    -1.0\n",
    "\\end{pmatrix} = \\begin{pmatrix}\n",
    "    1.0\\\\\n",
    "    -2.0\\\\\n",
    "    3.0\\\\\n",
    "    -4.0\n",
    "\\end{pmatrix}$"
   ]
  },
  {
   "cell_type": "code",
   "execution_count": 20,
   "metadata": {},
   "outputs": [
    {
     "name": "stdout",
     "output_type": "stream",
     "text": [
      "[ 1. -2.  3. -4.]\n"
     ]
    }
   ],
   "source": [
    "A  = np.array([1., 2., 3., 4.])\n",
    "B  = np.array([1., -1., 1., -1.])\n",
    "print( A*B )"
   ]
  },
  {
   "cell_type": "markdown",
   "metadata": {},
   "source": [
    "### Potencia\n",
    "$\\text{A**2} = \\begin{pmatrix}\n",
    "    1.0^2\\\\\n",
    "    2.0^2\\\\\n",
    "    3.0^2\\\\\n",
    "    4.0^2\n",
    "\\end{pmatrix} = \\begin{pmatrix}\n",
    "    1.0\\\\\n",
    "    4.0\\\\\n",
    "    9.0\\\\\n",
    "    16.0\n",
    "\\end{pmatrix} $"
   ]
  },
  {
   "cell_type": "code",
   "execution_count": 23,
   "metadata": {},
   "outputs": [
    {
     "name": "stdout",
     "output_type": "stream",
     "text": [
      "[ 1.  4.  9. 16.]\n"
     ]
    }
   ],
   "source": [
    "print( A**2 )"
   ]
  },
  {
   "cell_type": "markdown",
   "metadata": {},
   "source": [
    "### Resta\n",
    "$A-B = \\begin{pmatrix}\n",
    "    1.0\\\\\n",
    "    2.0\\\\\n",
    "    3.0\\\\\n",
    "    4.0\n",
    "\\end{pmatrix} - \\begin{pmatrix}\n",
    "    1.0\\\\\n",
    "    -1.0\\\\\n",
    "    1.0\\\\\n",
    "    -1.0\n",
    "\\end{pmatrix} = \\begin{pmatrix}\n",
    "    0.0\\\\\n",
    "    3.0\\\\\n",
    "    2.0\\\\\n",
    "    5.0\n",
    "\\end{pmatrix}$"
   ]
  },
  {
   "cell_type": "code",
   "execution_count": 24,
   "metadata": {},
   "outputs": [
    {
     "name": "stdout",
     "output_type": "stream",
     "text": [
      "[0. 3. 2. 5.]\n"
     ]
    }
   ],
   "source": [
    "print( A - B )"
   ]
  },
  {
   "cell_type": "markdown",
   "metadata": {},
   "source": [
    "### Suma\n",
    "$A+B = \\begin{pmatrix}\n",
    "    1.0\\\\\n",
    "    2.0\\\\\n",
    "    3.0\\\\\n",
    "    4.0\n",
    "\\end{pmatrix} + \\begin{pmatrix}\n",
    "    1.0\\\\\n",
    "    -1.0\\\\\n",
    "    1.0\\\\\n",
    "    -1.0\n",
    "\\end{pmatrix} = \\begin{pmatrix}\n",
    "    2.0\\\\\n",
    "    1.0\\\\\n",
    "    4.0\\\\\n",
    "    3.0\n",
    "\\end{pmatrix}$"
   ]
  },
  {
   "cell_type": "code",
   "execution_count": 25,
   "metadata": {},
   "outputs": [
    {
     "name": "stdout",
     "output_type": "stream",
     "text": [
      "[2. 1. 4. 3.]\n"
     ]
    }
   ],
   "source": [
    "print(A + B)"
   ]
  },
  {
   "cell_type": "markdown",
   "metadata": {},
   "source": [
    "### División\n",
    "$A/3 = \\begin{pmatrix}\n",
    "    1.0/3.0\\\\\n",
    "    2.0/3.0\\\\\n",
    "    3.0/3.0\\\\\n",
    "    4.0/3.0\n",
    "\\end{pmatrix} = \\begin{pmatrix}\n",
    "    0.33333333\\\\\n",
    "    0.66666667\\\\\n",
    "    1.0\\\\\n",
    "    1.33333333\n",
    "\\end{pmatrix}$"
   ]
  },
  {
   "cell_type": "code",
   "execution_count": 26,
   "metadata": {},
   "outputs": [
    {
     "name": "stdout",
     "output_type": "stream",
     "text": [
      "[0.33333333 0.66666667 1.         1.33333333]\n"
     ]
    }
   ],
   "source": [
    "print( A / 3. )"
   ]
  },
  {
   "cell_type": "code",
   "execution_count": 27,
   "metadata": {},
   "outputs": [
    {
     "data": {
      "text/plain": [
       "array([0.33333333, 0.66666667, 1.        , 1.33333333])"
      ]
     },
     "execution_count": 27,
     "metadata": {},
     "output_type": "execute_result"
    }
   ],
   "source": [
    "(1/3)*A"
   ]
  },
  {
   "cell_type": "markdown",
   "metadata": {},
   "source": [
    "### División con un vector elemento a elemento\n",
    "* Sea $\\text{C=}\\begin{pmatrix}\n",
    "    2.0\\\\\n",
    "    3.0\\\\\n",
    "    4.0\\\\\n",
    "    5.0\n",
    "\\end{pmatrix}$\n",
    "\n",
    "$A/C = \\begin{pmatrix}\n",
    "    1.0\\\\\n",
    "    2.0\\\\\n",
    "    3.0\\\\\n",
    "    4.0\n",
    "\\end{pmatrix} / \\begin{pmatrix}\n",
    "    2.0\\\\\n",
    "    3.0\\\\\n",
    "    4.0\\\\\n",
    "    5.0\n",
    "\\end{pmatrix} = \\begin{pmatrix}\n",
    "    1.0/2.0\\\\\n",
    "    2.0/3.0\\\\\n",
    "    3.0/4.0\\\\\n",
    "    4.0/5.0\n",
    "\\end{pmatrix} = \\begin{pmatrix}\n",
    "    0.5\\\\\n",
    "    0.66666667\\\\\n",
    "    0.75\\\\\n",
    "    0.8\n",
    "\\end{pmatrix}$"
   ]
  },
  {
   "cell_type": "code",
   "execution_count": 28,
   "metadata": {},
   "outputs": [
    {
     "name": "stdout",
     "output_type": "stream",
     "text": [
      "[0.5        0.66666667 0.75       0.8       ]\n"
     ]
    }
   ],
   "source": [
    "C = np.array([2., 3., 4., 5.])\n",
    "print( A / C ) # = [1.0/2.0, 2.0/3.0, 3.0/4.0, 4.0/5.0]"
   ]
  },
  {
   "cell_type": "markdown",
   "metadata": {},
   "source": [
    "Se puede realizar la suma de los elementos del vector usando la función $np.sum()$ y el promedio aritmético con $np.average()$"
   ]
  },
  {
   "cell_type": "markdown",
   "metadata": {},
   "source": [
    "$ \\text{A=}\\begin{pmatrix}\n",
    "    1.0\\\\\n",
    "    2.0\\\\\n",
    "    3.0\\\\\n",
    "    4.0\n",
    "\\end{pmatrix} \\rightarrow np.sum(A) = 1.0 + 2.0 + 3.0 + 4.0 = 10.0$"
   ]
  },
  {
   "cell_type": "code",
   "execution_count": 29,
   "metadata": {},
   "outputs": [
    {
     "name": "stdout",
     "output_type": "stream",
     "text": [
      "10.0\n"
     ]
    }
   ],
   "source": [
    "print(np.sum(A))"
   ]
  },
  {
   "cell_type": "markdown",
   "metadata": {},
   "source": [
    "$ \\text{A=}\\begin{pmatrix}\n",
    "    1.0\\\\\n",
    "    2.0\\\\\n",
    "    3.0\\\\\n",
    "    4.0\n",
    "\\end{pmatrix} \\rightarrow np.average(A) = (1.0 + 2.0 + 3.0 + 4.0) / 4.0 = 2.5$"
   ]
  },
  {
   "cell_type": "code",
   "execution_count": 30,
   "metadata": {},
   "outputs": [
    {
     "name": "stdout",
     "output_type": "stream",
     "text": [
      "2.5\n"
     ]
    }
   ],
   "source": [
    "print(np.average(A))"
   ]
  },
  {
   "cell_type": "markdown",
   "metadata": {},
   "source": [
    "Podemos obtener la cantidad de elementos del vector con la función $len()$"
   ]
  },
  {
   "cell_type": "code",
   "execution_count": 31,
   "metadata": {},
   "outputs": [
    {
     "data": {
      "text/plain": [
       "4"
      ]
     },
     "execution_count": 31,
     "metadata": {},
     "output_type": "execute_result"
    }
   ],
   "source": [
    "len(A)"
   ]
  },
  {
   "cell_type": "code",
   "execution_count": 32,
   "metadata": {},
   "outputs": [
    {
     "name": "stdout",
     "output_type": "stream",
     "text": [
      "2.5\n"
     ]
    }
   ],
   "source": [
    "print( np.sum(A) / len(A) )"
   ]
  },
  {
   "cell_type": "markdown",
   "metadata": {},
   "source": [
    "# El producto Punto"
   ]
  },
  {
   "cell_type": "markdown",
   "metadata": {},
   "source": [
    "Una operación importante en algebra lineal es el producto punto $ \\large{(\\cdot)}$  \n",
    "Cuando se computa el producto punto entre dos vectores, simplemente se multiplican elemento a elemento y se suma cada uno de los productos. En numpy esta operación se puede realizar con la función $np.dot()$\n",
    "* Sea $\\text{array1 =}\\begin{pmatrix}\n",
    "    1.0\\\\\n",
    "    2.0\\\\\n",
    "    3.0\\\\\n",
    "    4.0\n",
    "\\end{pmatrix} \\text{ y array2 =}\\begin{pmatrix}\n",
    "    2.0\\\\\n",
    "    3.0\\\\\n",
    "    4.0\\\\\n",
    "    5.0\n",
    "\\end{pmatrix}$\n",
    "\n",
    "$array1 \\cdot array2 = \\begin{pmatrix}\n",
    "    1.0\\\\\n",
    "    2.0\\\\\n",
    "    3.0\\\\\n",
    "    4.0\n",
    "\\end{pmatrix} {\\large\\cdot} \\begin{pmatrix}\n",
    "    2.0\\\\\n",
    "    3.0\\\\\n",
    "    4.0\\\\\n",
    "    5.0\n",
    "\\end{pmatrix}\\\\\n",
    "= 1.0*2.0 + 2.0*3.0 + 3.0*4.0 + 4.0*5.0 \\\\ \n",
    "= 2.0 + 6.0 + 12.0 + 20.0 = 40.0\n",
    "$"
   ]
  },
  {
   "cell_type": "code",
   "execution_count": 33,
   "metadata": {},
   "outputs": [
    {
     "name": "stdout",
     "output_type": "stream",
     "text": [
      "40.0\n"
     ]
    }
   ],
   "source": [
    "array1 = np.array([1., 2., 3., 4.])\n",
    "array2 = np.array([2., 3., 4., 5.])\n",
    "\n",
    "print( np.dot(array1, array2) )"
   ]
  },
  {
   "cell_type": "markdown",
   "metadata": {},
   "source": [
    "Utilizando la función $np.sum()$ y el operador $*$ que vimos anteriormente podemos obtener el mismo resultado"
   ]
  },
  {
   "cell_type": "code",
   "execution_count": 34,
   "metadata": {},
   "outputs": [
    {
     "name": "stdout",
     "output_type": "stream",
     "text": [
      "[ 2.  6. 12. 20.]\n"
     ]
    }
   ],
   "source": [
    "print( array1*array2 )"
   ]
  },
  {
   "cell_type": "code",
   "execution_count": 35,
   "metadata": {},
   "outputs": [
    {
     "name": "stdout",
     "output_type": "stream",
     "text": [
      "40.0\n"
     ]
    }
   ],
   "source": [
    "print( np.sum(array1*array2) )"
   ]
  },
  {
   "cell_type": "markdown",
   "metadata": {},
   "source": [
    "El producto punto nos puede servir por ejemplo para calcular la magnitud de un vector que está ubicado en el espacio, matemáticamente sería:  \n",
    "$\\|x\\|=\\sqrt[2]{x_1^2+x_2^2+x_3^2}$"
   ]
  },
  {
   "cell_type": "code",
   "execution_count": 36,
   "metadata": {},
   "outputs": [
    {
     "name": "stdout",
     "output_type": "stream",
     "text": [
      "5.477225575051661\n"
     ]
    }
   ],
   "source": [
    "array1_mag = np.sqrt(np.dot(array1, array1))\n",
    "print( array1_mag )"
   ]
  },
  {
   "cell_type": "code",
   "execution_count": 37,
   "metadata": {},
   "outputs": [
    {
     "name": "stdout",
     "output_type": "stream",
     "text": [
      "5.477225575051661\n"
     ]
    }
   ],
   "source": [
    "print( np.sqrt( np.sum( array1*array1 ) ) )"
   ]
  },
  {
   "cell_type": "markdown",
   "metadata": {},
   "source": [
    "También se puede usar el producto punto para realizar el producto Matriz por vector de la siguiente manera.\n",
    "* Sea una matriz $M_{m,n}$ con m filas y n columnas, y un vector $V_{n,1}$ con n elementos, tendremos:\n",
    "$M_{4,2}=\\begin{pmatrix}\n",
    "  1 & 2\\\\ \n",
    "  3 & 4\\\\\n",
    "  5 & 6\\\\\n",
    "  7 & 8\n",
    "\\end{pmatrix}$, \n",
    "$V_{2,1}=\\begin{pmatrix}\n",
    "    0.4\\\\\n",
    "    0.5\n",
    "\\end{pmatrix} \\rightarrow M_{4,2} \\cdot V_{2,1} = \\begin{pmatrix}\n",
    "    1.4\\\\\n",
    "    3.2\\\\\n",
    "    5.0\\\\\n",
    "    6.8\n",
    "\\end{pmatrix}_{4,1}$"
   ]
  },
  {
   "cell_type": "code",
   "execution_count": 38,
   "metadata": {},
   "outputs": [
    {
     "name": "stdout",
     "output_type": "stream",
     "text": [
      "[[1. 2.]\n",
      " [3. 4.]\n",
      " [5. 6.]\n",
      " [7. 8.]]\n"
     ]
    }
   ],
   "source": [
    "my_features = np.array( [ [1., 2.], [3., 4.], [5., 6.], [7., 8.] ] )\n",
    "print(my_features)"
   ]
  },
  {
   "cell_type": "code",
   "execution_count": 39,
   "metadata": {},
   "outputs": [
    {
     "name": "stdout",
     "output_type": "stream",
     "text": [
      "[0.4 0.5]\n"
     ]
    }
   ],
   "source": [
    "my_weights = np.array( [0.4, 0.5] )\n",
    "print(my_weights)"
   ]
  },
  {
   "cell_type": "code",
   "execution_count": 40,
   "metadata": {},
   "outputs": [
    {
     "name": "stdout",
     "output_type": "stream",
     "text": [
      "[1.4 3.2 5.  6.8]\n"
     ]
    }
   ],
   "source": [
    "my_predictions = np.dot(my_features, my_weights) # Notar que el vector se posiciona a la derecha\n",
    "print(my_predictions)"
   ]
  },
  {
   "cell_type": "markdown",
   "metadata": {},
   "source": [
    "De igual manera, si se tiene un vector $V_{1,n}$ con n elementos, que corresponden con la misma cantidad de filas de una matriz $M_{n,m}$tendremos:"
   ]
  },
  {
   "cell_type": "code",
   "execution_count": 42,
   "metadata": {},
   "outputs": [],
   "source": [
    "my_matrix = my_features\n",
    "my_array = np.array([0.3, 0.4, 0.5, 0.6])"
   ]
  },
  {
   "cell_type": "code",
   "execution_count": 45,
   "metadata": {},
   "outputs": [
    {
     "name": "stdout",
     "output_type": "stream",
     "text": [
      "[ 8.2 10. ]\n"
     ]
    }
   ],
   "source": [
    "print(np.dot(my_array, my_matrix))"
   ]
  },
  {
   "cell_type": "markdown",
   "metadata": {},
   "source": [
    "# Multiplicación de matrices"
   ]
  },
  {
   "cell_type": "markdown",
   "metadata": {},
   "source": [
    "Si tenemos dos matrices matrix_1 y matrix_2, donde el número de columnas de matrix_1 corresponde con el número de filas de matrix_2, entonces podemos usar la función $np.dot()$ para realizar el producto entre las matrices:  \n",
    "$\\text{matrix_1}=\\begin{pmatrix}\n",
    "  1 & 2 & 3\\\\ \n",
    "  4 & 5 & 6\\\\\n",
    "\\end{pmatrix}_{2,3} , \\text{matrix_2}=\\begin{pmatrix}\n",
    "    1 & 2\\\\\n",
    "    3 & 4\\\\\n",
    "    5 & 6\n",
    "\\end{pmatrix}_{3,2} \\rightarrow \\text{matrix_1}_{2,3} \\cdot \\text{matrix_2}_{3,2} = \\begin{pmatrix}\n",
    "    22 & 28\\\\\n",
    "    49 & 64\n",
    "\\end{pmatrix}_{2,2}$"
   ]
  },
  {
   "cell_type": "code",
   "execution_count": 46,
   "metadata": {},
   "outputs": [
    {
     "name": "stdout",
     "output_type": "stream",
     "text": [
      "[[1. 2. 3.]\n",
      " [4. 5. 6.]]\n"
     ]
    }
   ],
   "source": [
    "matrix_1 = np.array([[1., 2., 3.],[4., 5., 6.]])\n",
    "print(matrix_1)"
   ]
  },
  {
   "cell_type": "code",
   "execution_count": 47,
   "metadata": {},
   "outputs": [
    {
     "name": "stdout",
     "output_type": "stream",
     "text": [
      "[[1. 2.]\n",
      " [3. 4.]\n",
      " [5. 6.]]\n"
     ]
    }
   ],
   "source": [
    "matrix_2 = np.array([[1., 2.], [3., 4.], [5., 6.]])\n",
    "print(matrix_2)"
   ]
  },
  {
   "cell_type": "code",
   "execution_count": 48,
   "metadata": {},
   "outputs": [
    {
     "name": "stdout",
     "output_type": "stream",
     "text": [
      "[[22. 28.]\n",
      " [49. 64.]]\n"
     ]
    }
   ],
   "source": [
    "print( np.dot( matrix_1, matrix_2 ) )"
   ]
  },
  {
   "cell_type": "markdown",
   "metadata": {},
   "source": [
    "Podemos utilizar también el operador $@$ para el producto matricial"
   ]
  },
  {
   "cell_type": "code",
   "execution_count": 49,
   "metadata": {},
   "outputs": [
    {
     "name": "stdout",
     "output_type": "stream",
     "text": [
      "[[22. 28.]\n",
      " [49. 64.]]\n"
     ]
    }
   ],
   "source": [
    "print( matrix_1@matrix_2 )"
   ]
  }
 ],
 "metadata": {
  "kernelspec": {
   "display_name": "Python 3",
   "language": "python",
   "name": "python3"
  },
  "language_info": {
   "codemirror_mode": {
    "name": "ipython",
    "version": 3
   },
   "file_extension": ".py",
   "mimetype": "text/x-python",
   "name": "python",
   "nbconvert_exporter": "python",
   "pygments_lexer": "ipython3",
   "version": "3.8.5"
  }
 },
 "nbformat": 4,
 "nbformat_minor": 1
}
